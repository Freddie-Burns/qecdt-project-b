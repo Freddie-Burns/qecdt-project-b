{
 "cells": [
  {
   "metadata": {
    "ExecuteTime": {
     "end_time": "2024-07-18T10:19:20.787366Z",
     "start_time": "2024-07-18T10:19:20.696494Z"
    }
   },
   "cell_type": "code",
   "source": [
    "import circuit\n",
    "import numpy as np\n",
    "\n",
    "import importlib\n",
    "importlib.reload(circuit)"
   ],
   "id": "2d8b14ba1d37076f",
   "outputs": [
    {
     "data": {
      "text/plain": [
       "<module 'circuit' from 'C:\\\\Users\\\\fredd\\\\Code\\\\qecdt-project-b\\\\numerics\\\\circuit.py'>"
      ]
     },
     "execution_count": 50,
     "metadata": {},
     "output_type": "execute_result"
    }
   ],
   "execution_count": 50
  },
  {
   "metadata": {
    "ExecuteTime": {
     "end_time": "2024-07-18T10:19:20.928581Z",
     "start_time": "2024-07-18T10:19:20.787366Z"
    }
   },
   "cell_type": "code",
   "source": [
    "edges = [[0, 1]]\n",
    "cir = circuit.Circuit(n=2, edges=edges, theta=np.pi/4)\n",
    "print(np.round(cir.psi, 2))\n",
    "print(cir.output_prob(\"00\"))\n",
    "print(cir.output_prob(\"01\"))\n",
    "print(cir.output_prob(\"10\"))\n",
    "print(cir.output_prob(\"11\"))"
   ],
   "id": "dcab07d1d0c74b54",
   "outputs": [
    {
     "name": "stdout",
     "output_type": "stream",
     "text": [
      "[0.71+0.71j 0.71-0.71j 0.71-0.71j 0.71+0.71j]\n",
      "0.707106781186548\n",
      "0\n",
      "0\n",
      "0.707106781186548*I\n"
     ]
    }
   ],
   "execution_count": 51
  }
 ],
 "metadata": {
  "kernelspec": {
   "display_name": "Python 3",
   "language": "python",
   "name": "python3"
  },
  "language_info": {
   "codemirror_mode": {
    "name": "ipython",
    "version": 2
   },
   "file_extension": ".py",
   "mimetype": "text/x-python",
   "name": "python",
   "nbconvert_exporter": "python",
   "pygments_lexer": "ipython2",
   "version": "2.7.6"
  }
 },
 "nbformat": 4,
 "nbformat_minor": 5
}
