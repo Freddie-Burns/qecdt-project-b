{
 "cells": [
  {
   "metadata": {},
   "cell_type": "markdown",
   "source": "As the following shows, this implementation of fwht doesn't normalise by the factor of sqrt(2^n) so we must add that in.",
   "id": "739984331409c017"
  },
  {
   "cell_type": "code",
   "id": "initial_id",
   "metadata": {
    "collapsed": true,
    "ExecuteTime": {
     "end_time": "2024-07-16T08:39:19.206117Z",
     "start_time": "2024-07-16T08:39:19.199408Z"
    }
   },
   "source": [
    "import numpy as np\n",
    "from sympy import fwht"
   ],
   "outputs": [],
   "execution_count": 49
  },
  {
   "metadata": {
    "ExecuteTime": {
     "end_time": "2024-07-16T08:39:19.266335Z",
     "start_time": "2024-07-16T08:39:19.260177Z"
    }
   },
   "cell_type": "code",
   "source": [
    "y = np.array([0,0,0,0])\n",
    "had = fwht(y)\n",
    "print(had)"
   ],
   "id": "a36b6b15e2fdd193",
   "outputs": [
    {
     "name": "stdout",
     "output_type": "stream",
     "text": [
      "[0, 0, 0, 0]\n"
     ]
    }
   ],
   "execution_count": 50
  },
  {
   "metadata": {
    "ExecuteTime": {
     "end_time": "2024-07-16T08:39:19.291583Z",
     "start_time": "2024-07-16T08:39:19.280356Z"
    }
   },
   "cell_type": "code",
   "source": [
    "y = np.array([1,0,0,0])\n",
    "had = fwht(y)\n",
    "print(had)"
   ],
   "id": "6e481dd3589f65cb",
   "outputs": [
    {
     "name": "stdout",
     "output_type": "stream",
     "text": [
      "[1, 1, 1, 1]\n"
     ]
    }
   ],
   "execution_count": 51
  },
  {
   "metadata": {
    "ExecuteTime": {
     "end_time": "2024-07-16T08:39:19.300261Z",
     "start_time": "2024-07-16T08:39:19.291583Z"
    }
   },
   "cell_type": "code",
   "source": [
    "y = np.array([0,1,0,0])\n",
    "had = fwht(y)\n",
    "print(had)"
   ],
   "id": "9d49f28f5efb023e",
   "outputs": [
    {
     "name": "stdout",
     "output_type": "stream",
     "text": [
      "[1, -1, 1, -1]\n"
     ]
    }
   ],
   "execution_count": 52
  },
  {
   "metadata": {
    "ExecuteTime": {
     "end_time": "2024-07-16T08:39:19.308852Z",
     "start_time": "2024-07-16T08:39:19.300261Z"
    }
   },
   "cell_type": "code",
   "source": [
    "y = np.array([1,1,1,1])\n",
    "had = fwht(y)\n",
    "print(had)"
   ],
   "id": "92d4f48140c3bc13",
   "outputs": [
    {
     "name": "stdout",
     "output_type": "stream",
     "text": [
      "[4, 0, 0, 0]\n"
     ]
    }
   ],
   "execution_count": 53
  },
  {
   "metadata": {
    "ExecuteTime": {
     "end_time": "2024-07-16T08:39:53.493334Z",
     "start_time": "2024-07-16T08:39:53.488139Z"
    }
   },
   "cell_type": "code",
   "source": [
    "# An example with correct normalisation.\n",
    "y = np.array([1,0,1,0]) / np.sqrt(2)\n",
    "had = fwht(y) / np.sqrt(len(y))\n",
    "print(had)"
   ],
   "id": "443a278da36c3288",
   "outputs": [
    {
     "name": "stdout",
     "output_type": "stream",
     "text": [
      "[0.707106781186547 0.707106781186547 0 0]\n"
     ]
    }
   ],
   "execution_count": 55
  },
  {
   "metadata": {},
   "cell_type": "code",
   "outputs": [],
   "execution_count": null,
   "source": "",
   "id": "5d55a59c72d71373"
  }
 ],
 "metadata": {
  "kernelspec": {
   "display_name": "Python 3",
   "language": "python",
   "name": "python3"
  },
  "language_info": {
   "codemirror_mode": {
    "name": "ipython",
    "version": 2
   },
   "file_extension": ".py",
   "mimetype": "text/x-python",
   "name": "python",
   "nbconvert_exporter": "python",
   "pygments_lexer": "ipython2",
   "version": "2.7.6"
  }
 },
 "nbformat": 4,
 "nbformat_minor": 5
}
